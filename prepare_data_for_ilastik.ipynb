{
 "cells": [
  {
   "cell_type": "code",
   "execution_count": null,
   "metadata": {},
   "outputs": [],
   "source": [
    "import numpy as np\n",
    "from skimage.io import imsave, imread\n",
    "#from scipy.ndimage import gaussian_filter, median_filter\n",
    "\n",
    "import h5py as h\n",
    "\n",
    "import os\n",
    "from pathlib import Path\n",
    "\n",
    "img_dir = r\"X:\\Kleele\\Nov_2024\\01-Data\\241107_RPE1_TOM20staygold_drug_treatments\"\n",
    "imgs = Path(img_dir).rglob('*.ome.tif')\n",
    "\n",
    "save_dir = r\"X:\\Kleele\\Nov_2024\\02-Analysis\\241108_RPE1_drug_treatments_screen\\Ilastik_segmentation\"\n",
    "\n",
    "for i, file in enumerate(imgs):\n",
    "    basename = os.path.basename(file).split('.ome')[0]\n",
    "\n",
    "    img = imread(file)\n",
    "    #mito = img[0,:,:,:]\n",
    "    #mito = gaussian_filter(mito, 3)\n",
    "\n",
    "    hf = h.File(os.path.join(save_dir,basename + '_mito.h5'), 'w')\n",
    "    hf.create_dataset('data',data=img)\n",
    "    hf.close()"
   ]
  }
 ],
 "metadata": {
  "language_info": {
   "name": "python"
  },
  "orig_nbformat": 4
 },
 "nbformat": 4,
 "nbformat_minor": 2
}
