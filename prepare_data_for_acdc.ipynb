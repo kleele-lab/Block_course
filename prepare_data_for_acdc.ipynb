{
 "cells": [
  {
   "cell_type": "code",
   "execution_count": null,
   "metadata": {},
   "outputs": [],
   "source": [
    "# setup data for acdc analysis \n",
    "# take entire z stack\n",
    "# basic: folder that I have to new format: \n",
    "import numpy as np\n",
    "import pandas as pd\n",
    "from skimage.io import imsave, imread\n",
    "\n",
    "import os\n",
    "from pathlib import Path\n",
    "\n",
    "img_folder = r\"B:\\Kleele\\Nov_2024\\01-Data\\241107_RPE1_TOM20staygold_drug_treatments\"\n",
    "files = Path(img_folder).rglob('*decon.ome.tif')\n",
    "\n",
    "save_dir = r\"B:\\Kleele\\Nov_2024\\02-Analysis\\241108_RPE1_drug_treatments_screen\\acdc\"\n",
    "\n",
    "# for metadata file \n",
    "names = ['basename','SizeT','SizeZ','SizeY','SizeX','TimeIncrement','PhysicalSizeZ','PhysicalSizeY','PhysicalSizeX']\n",
    "values = [1,1,1532,2140,1,1,0.045,0.045]\n",
    "\n",
    "counter = 0\n",
    "for i, file in enumerate(files):\n",
    "    new_pos = os.path.join(save_dir,f'Position_{counter}')\n",
    "    # make new folder\n",
    "    if not os.path.exists(new_pos):\n",
    "        os.mkdir(new_pos)\n",
    "        os.mkdir(os.path.join(new_pos,'Images'))\n",
    "\n",
    "    # get filename\n",
    "    basename = os.path.basename(file)\n",
    "    basename = basename.split('.')[0]\n",
    "\n",
    "    img = imread(file)\n",
    "\n",
    "    imsave(os.path.join(new_pos,'Images',basename + '_mito.tif'),img[:,:,:])\n",
    "\n",
    "    # prepare metadata file \n",
    "    values[1] = img.shape[0]\n",
    "    tot_val = [basename] + values\n",
    "    df = pd.DataFrame({'Description':names,'values':tot_val})\n",
    "    df.to_csv(os.path.join(new_pos,'Images',basename + '_metadata.csv'),index=False)\n",
    "    counter += 1"
   ]
  }
 ],
 "metadata": {
  "language_info": {
   "name": "python"
  },
  "orig_nbformat": 4
 },
 "nbformat": 4,
 "nbformat_minor": 2
}
